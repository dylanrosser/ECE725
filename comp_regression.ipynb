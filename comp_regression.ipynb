{
 "cells": [
  {
   "cell_type": "code",
   "execution_count": 136,
   "metadata": {},
   "outputs": [],
   "source": [
    "import numpy as np\n",
    "import matplotlib.pyplot as plt\n",
    "import pandas\n",
    "from sklearn.linear_model import LinearRegression\n",
    "from sklearn.preprocessing import PolynomialFeatures"
   ]
  },
  {
   "cell_type": "code",
   "execution_count": 141,
   "metadata": {},
   "outputs": [
    {
     "name": "stdout",
     "output_type": "stream",
     "text": [
      "predicted sndr:  52.32402321428572\n"
     ]
    }
   ],
   "source": [
    "data = pandas.read_csv(\"comp.csv\")\n",
    "X=data.iloc[:,0:-1]\n",
    "y = data.iloc[:,-1]\n",
    "test = np.array([0.4,0.4,0.4,0.4,0.4,0.4,0.2,0.2,10,10,20])\n",
    "\n",
    "# standard linear regression\n",
    "\n",
    "# this is probably a feeble attempt since the problem\n",
    "# cannot likely be modeled by a linear equation\n",
    "\n",
    "model = LinearRegression()  \n",
    "model.fit(X, y) #training the algorithm\n",
    "\n",
    "sndr = np.dot(test,model.coef_)+model.intercept_\n",
    "print('predicted sndr: ', sndr)"
   ]
  },
  {
   "cell_type": "code",
   "execution_count": 142,
   "metadata": {},
   "outputs": [
    {
     "name": "stdout",
     "output_type": "stream",
     "text": [
      "predicted sndr:  [52.77140153]\n"
     ]
    }
   ],
   "source": [
    "# polynomial regression\n",
    "poly = PolynomialFeatures(2)\n",
    "\n",
    "X=poly.fit_transform(X)\n",
    "test = poly.fit_transform(test.reshape(1,-1))\n",
    "\n",
    "model = LinearRegression()  \n",
    "model.fit(X, y) #training the algorithm\n",
    "\n",
    "sndr = np.dot(test,model.coef_)+model.intercept_\n",
    "print('predicted sndr: ', sndr)"
   ]
  },
  {
   "cell_type": "code",
   "execution_count": null,
   "metadata": {},
   "outputs": [],
   "source": []
  }
 ],
 "metadata": {
  "kernelspec": {
   "display_name": "Python 3",
   "language": "python",
   "name": "python3"
  },
  "language_info": {
   "codemirror_mode": {
    "name": "ipython",
    "version": 3
   },
   "file_extension": ".py",
   "mimetype": "text/x-python",
   "name": "python",
   "nbconvert_exporter": "python",
   "pygments_lexer": "ipython3",
   "version": "3.7.3"
  }
 },
 "nbformat": 4,
 "nbformat_minor": 2
}
